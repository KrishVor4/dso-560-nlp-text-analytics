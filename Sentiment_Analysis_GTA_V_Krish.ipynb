{
  "cells": [
    {
      "cell_type": "markdown",
      "metadata": {
        "id": "view-in-github",
        "colab_type": "text"
      },
      "source": [
        "<a href=\"https://colab.research.google.com/github/KrishVor4/dso-560-nlp-text-analytics/blob/main/Sentiment_Analysis_GTA_V_Krish.ipynb\" target=\"_parent\"><img src=\"https://colab.research.google.com/assets/colab-badge.svg\" alt=\"Open In Colab\"/></a>"
      ]
    },
    {
      "cell_type": "markdown",
      "id": "e0455aac",
      "metadata": {
        "id": "e0455aac"
      },
      "source": [
        "# TEAM BLACK - NLP PROJECT\n",
        "### 1. Jewon Ju\n",
        "### 2. Krish Vora\n",
        "### 3. Matthew Lee"
      ]
    },
    {
      "cell_type": "markdown",
      "id": "88d29877",
      "metadata": {
        "id": "88d29877"
      },
      "source": [
        "## Sentiment Analysis"
      ]
    },
    {
      "cell_type": "markdown",
      "id": "3bcce599",
      "metadata": {
        "id": "3bcce599"
      },
      "source": [
        "### Importing Libraries"
      ]
    },
    {
      "cell_type": "code",
      "execution_count": 1,
      "id": "5f0bf070",
      "metadata": {
        "ExecuteTime": {
          "start_time": "2022-12-14T23:46:41.839Z"
        },
        "colab": {
          "base_uri": "https://localhost:8080/"
        },
        "id": "5f0bf070",
        "outputId": "0ef04d73-5ebe-44c2-ce07-9613e7877339"
      },
      "outputs": [
        {
          "output_type": "stream",
          "name": "stderr",
          "text": [
            "/usr/local/lib/python3.8/dist-packages/torch/cuda/__init__.py:497: UserWarning: Can't initialize NVML\n",
            "  warnings.warn(\"Can't initialize NVML\")\n"
          ]
        }
      ],
      "source": [
        "import pandas as pd\n",
        "import textacy\n",
        "import matplotlib.pyplot as plt\n",
        "import seaborn as sns\n",
        "from textacy.preprocessing.remove import punctuation\n",
        "import re\n",
        "import nltk\n",
        "from nltk.corpus import stopwords\n",
        "from sklearn.model_selection import train_test_split\n",
        "from sklearn.feature_extraction.text import TfidfVectorizer\n",
        "from sklearn.linear_model import LogisticRegression\n",
        "import numpy as np\n",
        "from sklearn import metrics\n",
        "from sklearn.metrics import confusion_matrix\n",
        "from sklearn.metrics import roc_auc_score\n",
        "from sklearn.metrics import f1_score\n",
        "from sklearn.metrics import accuracy_score\n",
        "from sklearn.ensemble import RandomForestClassifier\n",
        "from sklearn.feature_extraction.text import CountVectorizer\n",
        "from keras.preprocessing.text import Tokenizer\n",
        "import nltk\n",
        "from tensorflow.keras.utils import to_categorical\n",
        "from keras.preprocessing.text import Tokenizer\n",
        "from keras_preprocessing.sequence import pad_sequences\n",
        "from tensorflow.keras.utils import to_categorical\n",
        "from sklearn.preprocessing import LabelEncoder\n",
        "from keras.layers import SimpleRNN\n",
        "from keras.layers import Flatten, Masking\n",
        "from keras.models import Sequential\n",
        "from keras.layers import Embedding\n",
        "from keras.layers import Dense"
      ]
    },
    {
      "cell_type": "markdown",
      "id": "9a208e65",
      "metadata": {
        "id": "9a208e65"
      },
      "source": [
        "### Data Exploration"
      ]
    },
    {
      "cell_type": "code",
      "source": [
        "from google.colab import files\n",
        "uploaded = files.upload()"
      ],
      "metadata": {
        "colab": {
          "base_uri": "https://localhost:8080/",
          "height": 74
        },
        "id": "zv7yBHbBDZgA",
        "outputId": "ca34041e-a6db-43ac-ea3a-37a1165bc582"
      },
      "id": "zv7yBHbBDZgA",
      "execution_count": 2,
      "outputs": [
        {
          "output_type": "display_data",
          "data": {
            "text/plain": [
              "<IPython.core.display.HTML object>"
            ],
            "text/html": [
              "\n",
              "     <input type=\"file\" id=\"files-54d6e1e5-ebcc-4c3a-aa2c-4c4f27aa02bf\" name=\"files[]\" multiple disabled\n",
              "        style=\"border:none\" />\n",
              "     <output id=\"result-54d6e1e5-ebcc-4c3a-aa2c-4c4f27aa02bf\">\n",
              "      Upload widget is only available when the cell has been executed in the\n",
              "      current browser session. Please rerun this cell to enable.\n",
              "      </output>\n",
              "      <script>// Copyright 2017 Google LLC\n",
              "//\n",
              "// Licensed under the Apache License, Version 2.0 (the \"License\");\n",
              "// you may not use this file except in compliance with the License.\n",
              "// You may obtain a copy of the License at\n",
              "//\n",
              "//      http://www.apache.org/licenses/LICENSE-2.0\n",
              "//\n",
              "// Unless required by applicable law or agreed to in writing, software\n",
              "// distributed under the License is distributed on an \"AS IS\" BASIS,\n",
              "// WITHOUT WARRANTIES OR CONDITIONS OF ANY KIND, either express or implied.\n",
              "// See the License for the specific language governing permissions and\n",
              "// limitations under the License.\n",
              "\n",
              "/**\n",
              " * @fileoverview Helpers for google.colab Python module.\n",
              " */\n",
              "(function(scope) {\n",
              "function span(text, styleAttributes = {}) {\n",
              "  const element = document.createElement('span');\n",
              "  element.textContent = text;\n",
              "  for (const key of Object.keys(styleAttributes)) {\n",
              "    element.style[key] = styleAttributes[key];\n",
              "  }\n",
              "  return element;\n",
              "}\n",
              "\n",
              "// Max number of bytes which will be uploaded at a time.\n",
              "const MAX_PAYLOAD_SIZE = 100 * 1024;\n",
              "\n",
              "function _uploadFiles(inputId, outputId) {\n",
              "  const steps = uploadFilesStep(inputId, outputId);\n",
              "  const outputElement = document.getElementById(outputId);\n",
              "  // Cache steps on the outputElement to make it available for the next call\n",
              "  // to uploadFilesContinue from Python.\n",
              "  outputElement.steps = steps;\n",
              "\n",
              "  return _uploadFilesContinue(outputId);\n",
              "}\n",
              "\n",
              "// This is roughly an async generator (not supported in the browser yet),\n",
              "// where there are multiple asynchronous steps and the Python side is going\n",
              "// to poll for completion of each step.\n",
              "// This uses a Promise to block the python side on completion of each step,\n",
              "// then passes the result of the previous step as the input to the next step.\n",
              "function _uploadFilesContinue(outputId) {\n",
              "  const outputElement = document.getElementById(outputId);\n",
              "  const steps = outputElement.steps;\n",
              "\n",
              "  const next = steps.next(outputElement.lastPromiseValue);\n",
              "  return Promise.resolve(next.value.promise).then((value) => {\n",
              "    // Cache the last promise value to make it available to the next\n",
              "    // step of the generator.\n",
              "    outputElement.lastPromiseValue = value;\n",
              "    return next.value.response;\n",
              "  });\n",
              "}\n",
              "\n",
              "/**\n",
              " * Generator function which is called between each async step of the upload\n",
              " * process.\n",
              " * @param {string} inputId Element ID of the input file picker element.\n",
              " * @param {string} outputId Element ID of the output display.\n",
              " * @return {!Iterable<!Object>} Iterable of next steps.\n",
              " */\n",
              "function* uploadFilesStep(inputId, outputId) {\n",
              "  const inputElement = document.getElementById(inputId);\n",
              "  inputElement.disabled = false;\n",
              "\n",
              "  const outputElement = document.getElementById(outputId);\n",
              "  outputElement.innerHTML = '';\n",
              "\n",
              "  const pickedPromise = new Promise((resolve) => {\n",
              "    inputElement.addEventListener('change', (e) => {\n",
              "      resolve(e.target.files);\n",
              "    });\n",
              "  });\n",
              "\n",
              "  const cancel = document.createElement('button');\n",
              "  inputElement.parentElement.appendChild(cancel);\n",
              "  cancel.textContent = 'Cancel upload';\n",
              "  const cancelPromise = new Promise((resolve) => {\n",
              "    cancel.onclick = () => {\n",
              "      resolve(null);\n",
              "    };\n",
              "  });\n",
              "\n",
              "  // Wait for the user to pick the files.\n",
              "  const files = yield {\n",
              "    promise: Promise.race([pickedPromise, cancelPromise]),\n",
              "    response: {\n",
              "      action: 'starting',\n",
              "    }\n",
              "  };\n",
              "\n",
              "  cancel.remove();\n",
              "\n",
              "  // Disable the input element since further picks are not allowed.\n",
              "  inputElement.disabled = true;\n",
              "\n",
              "  if (!files) {\n",
              "    return {\n",
              "      response: {\n",
              "        action: 'complete',\n",
              "      }\n",
              "    };\n",
              "  }\n",
              "\n",
              "  for (const file of files) {\n",
              "    const li = document.createElement('li');\n",
              "    li.append(span(file.name, {fontWeight: 'bold'}));\n",
              "    li.append(span(\n",
              "        `(${file.type || 'n/a'}) - ${file.size} bytes, ` +\n",
              "        `last modified: ${\n",
              "            file.lastModifiedDate ? file.lastModifiedDate.toLocaleDateString() :\n",
              "                                    'n/a'} - `));\n",
              "    const percent = span('0% done');\n",
              "    li.appendChild(percent);\n",
              "\n",
              "    outputElement.appendChild(li);\n",
              "\n",
              "    const fileDataPromise = new Promise((resolve) => {\n",
              "      const reader = new FileReader();\n",
              "      reader.onload = (e) => {\n",
              "        resolve(e.target.result);\n",
              "      };\n",
              "      reader.readAsArrayBuffer(file);\n",
              "    });\n",
              "    // Wait for the data to be ready.\n",
              "    let fileData = yield {\n",
              "      promise: fileDataPromise,\n",
              "      response: {\n",
              "        action: 'continue',\n",
              "      }\n",
              "    };\n",
              "\n",
              "    // Use a chunked sending to avoid message size limits. See b/62115660.\n",
              "    let position = 0;\n",
              "    do {\n",
              "      const length = Math.min(fileData.byteLength - position, MAX_PAYLOAD_SIZE);\n",
              "      const chunk = new Uint8Array(fileData, position, length);\n",
              "      position += length;\n",
              "\n",
              "      const base64 = btoa(String.fromCharCode.apply(null, chunk));\n",
              "      yield {\n",
              "        response: {\n",
              "          action: 'append',\n",
              "          file: file.name,\n",
              "          data: base64,\n",
              "        },\n",
              "      };\n",
              "\n",
              "      let percentDone = fileData.byteLength === 0 ?\n",
              "          100 :\n",
              "          Math.round((position / fileData.byteLength) * 100);\n",
              "      percent.textContent = `${percentDone}% done`;\n",
              "\n",
              "    } while (position < fileData.byteLength);\n",
              "  }\n",
              "\n",
              "  // All done.\n",
              "  yield {\n",
              "    response: {\n",
              "      action: 'complete',\n",
              "    }\n",
              "  };\n",
              "}\n",
              "\n",
              "scope.google = scope.google || {};\n",
              "scope.google.colab = scope.google.colab || {};\n",
              "scope.google.colab._files = {\n",
              "  _uploadFiles,\n",
              "  _uploadFilesContinue,\n",
              "};\n",
              "})(self);\n",
              "</script> "
            ]
          },
          "metadata": {}
        },
        {
          "output_type": "stream",
          "name": "stdout",
          "text": [
            "Saving gta_data.csv to gta_data (1).csv\n"
          ]
        }
      ]
    },
    {
      "cell_type": "code",
      "execution_count": 3,
      "id": "762ae383",
      "metadata": {
        "ExecuteTime": {
          "start_time": "2022-12-14T21:33:32.073Z"
        },
        "id": "762ae383"
      },
      "outputs": [],
      "source": [
        "#reading in data\n",
        "df = pd.read_csv(\"gta_data.csv\")"
      ]
    },
    {
      "cell_type": "code",
      "execution_count": 4,
      "id": "bfc1c14b",
      "metadata": {
        "ExecuteTime": {
          "start_time": "2022-12-14T21:33:32.074Z"
        },
        "colab": {
          "base_uri": "https://localhost:8080/",
          "height": 595
        },
        "id": "bfc1c14b",
        "outputId": "e4aa6129-9bfa-4554-ce84-26e116111675"
      },
      "outputs": [
        {
          "output_type": "execute_result",
          "data": {
            "text/plain": [
              "   Unnamed: 0  Unnamed: 0.1  app_id            app_name  review_id language  \\\n",
              "0    12750210      12750213  271590  Grand Theft Auto V   84998143  english   \n",
              "1    12750213      12750216  271590  Grand Theft Auto V   84997804  english   \n",
              "2    12750214      12750217  271590  Grand Theft Auto V   84997454  english   \n",
              "3    12750216      12750219  271590  Grand Theft Auto V   84996934  english   \n",
              "4    12750223      12750226  271590  Grand Theft Auto V   84996088  english   \n",
              "\n",
              "                                              review  timestamp_created  \\\n",
              "0  It's fun.\\nWish the loading times for Online w...         1611091317   \n",
              "1                                                 hn         1611090858   \n",
              "2  ---{Graphics}---\\n☐ You forget what reality is...         1611090369   \n",
              "3                                                  a         1611089687   \n",
              "4  It is one of the best games I’ve played.. Too ...         1611088541   \n",
              "\n",
              "   timestamp_updated  recommended  ...  steam_purchase  received_for_free  \\\n",
              "0         1611091317         True  ...            True              False   \n",
              "1         1611090858         True  ...            True              False   \n",
              "2         1611090369         True  ...            True              False   \n",
              "3         1611089687         True  ...            True              False   \n",
              "4         1611088541         True  ...            True              False   \n",
              "\n",
              "   written_during_early_access     author.steamid  author.num_games_owned  \\\n",
              "0                        False  76561198150307046                      21   \n",
              "1                        False  76561199116756419                       2   \n",
              "2                        False  76561198153251963                     186   \n",
              "3                        False  76561198311729059                      16   \n",
              "4                        False  76561198883017613                       9   \n",
              "\n",
              "   author.num_reviews  author.playtime_forever  \\\n",
              "0                   8                   9894.0   \n",
              "1                   1                   1935.0   \n",
              "2                  10                  34944.0   \n",
              "3                   1                   1817.0   \n",
              "4                   1                   5263.0   \n",
              "\n",
              "   author.playtime_last_two_weeks  author.playtime_at_review  \\\n",
              "0                            51.0                     9894.0   \n",
              "1                           700.0                     1920.0   \n",
              "2                           899.0                    34944.0   \n",
              "3                           549.0                     1817.0   \n",
              "4                             0.0                     5263.0   \n",
              "\n",
              "   author.last_played  \n",
              "0        1.610902e+09  \n",
              "1        1.611091e+09  \n",
              "2        1.610992e+09  \n",
              "3        1.611089e+09  \n",
              "4        1.609456e+09  \n",
              "\n",
              "[5 rows x 24 columns]"
            ],
            "text/html": [
              "\n",
              "  <div id=\"df-a9f5161b-7273-4e2a-a21c-a9275909fe36\">\n",
              "    <div class=\"colab-df-container\">\n",
              "      <div>\n",
              "<style scoped>\n",
              "    .dataframe tbody tr th:only-of-type {\n",
              "        vertical-align: middle;\n",
              "    }\n",
              "\n",
              "    .dataframe tbody tr th {\n",
              "        vertical-align: top;\n",
              "    }\n",
              "\n",
              "    .dataframe thead th {\n",
              "        text-align: right;\n",
              "    }\n",
              "</style>\n",
              "<table border=\"1\" class=\"dataframe\">\n",
              "  <thead>\n",
              "    <tr style=\"text-align: right;\">\n",
              "      <th></th>\n",
              "      <th>Unnamed: 0</th>\n",
              "      <th>Unnamed: 0.1</th>\n",
              "      <th>app_id</th>\n",
              "      <th>app_name</th>\n",
              "      <th>review_id</th>\n",
              "      <th>language</th>\n",
              "      <th>review</th>\n",
              "      <th>timestamp_created</th>\n",
              "      <th>timestamp_updated</th>\n",
              "      <th>recommended</th>\n",
              "      <th>...</th>\n",
              "      <th>steam_purchase</th>\n",
              "      <th>received_for_free</th>\n",
              "      <th>written_during_early_access</th>\n",
              "      <th>author.steamid</th>\n",
              "      <th>author.num_games_owned</th>\n",
              "      <th>author.num_reviews</th>\n",
              "      <th>author.playtime_forever</th>\n",
              "      <th>author.playtime_last_two_weeks</th>\n",
              "      <th>author.playtime_at_review</th>\n",
              "      <th>author.last_played</th>\n",
              "    </tr>\n",
              "  </thead>\n",
              "  <tbody>\n",
              "    <tr>\n",
              "      <th>0</th>\n",
              "      <td>12750210</td>\n",
              "      <td>12750213</td>\n",
              "      <td>271590</td>\n",
              "      <td>Grand Theft Auto V</td>\n",
              "      <td>84998143</td>\n",
              "      <td>english</td>\n",
              "      <td>It's fun.\\nWish the loading times for Online w...</td>\n",
              "      <td>1611091317</td>\n",
              "      <td>1611091317</td>\n",
              "      <td>True</td>\n",
              "      <td>...</td>\n",
              "      <td>True</td>\n",
              "      <td>False</td>\n",
              "      <td>False</td>\n",
              "      <td>76561198150307046</td>\n",
              "      <td>21</td>\n",
              "      <td>8</td>\n",
              "      <td>9894.0</td>\n",
              "      <td>51.0</td>\n",
              "      <td>9894.0</td>\n",
              "      <td>1.610902e+09</td>\n",
              "    </tr>\n",
              "    <tr>\n",
              "      <th>1</th>\n",
              "      <td>12750213</td>\n",
              "      <td>12750216</td>\n",
              "      <td>271590</td>\n",
              "      <td>Grand Theft Auto V</td>\n",
              "      <td>84997804</td>\n",
              "      <td>english</td>\n",
              "      <td>hn</td>\n",
              "      <td>1611090858</td>\n",
              "      <td>1611090858</td>\n",
              "      <td>True</td>\n",
              "      <td>...</td>\n",
              "      <td>True</td>\n",
              "      <td>False</td>\n",
              "      <td>False</td>\n",
              "      <td>76561199116756419</td>\n",
              "      <td>2</td>\n",
              "      <td>1</td>\n",
              "      <td>1935.0</td>\n",
              "      <td>700.0</td>\n",
              "      <td>1920.0</td>\n",
              "      <td>1.611091e+09</td>\n",
              "    </tr>\n",
              "    <tr>\n",
              "      <th>2</th>\n",
              "      <td>12750214</td>\n",
              "      <td>12750217</td>\n",
              "      <td>271590</td>\n",
              "      <td>Grand Theft Auto V</td>\n",
              "      <td>84997454</td>\n",
              "      <td>english</td>\n",
              "      <td>---{Graphics}---\\n☐ You forget what reality is...</td>\n",
              "      <td>1611090369</td>\n",
              "      <td>1611090369</td>\n",
              "      <td>True</td>\n",
              "      <td>...</td>\n",
              "      <td>True</td>\n",
              "      <td>False</td>\n",
              "      <td>False</td>\n",
              "      <td>76561198153251963</td>\n",
              "      <td>186</td>\n",
              "      <td>10</td>\n",
              "      <td>34944.0</td>\n",
              "      <td>899.0</td>\n",
              "      <td>34944.0</td>\n",
              "      <td>1.610992e+09</td>\n",
              "    </tr>\n",
              "    <tr>\n",
              "      <th>3</th>\n",
              "      <td>12750216</td>\n",
              "      <td>12750219</td>\n",
              "      <td>271590</td>\n",
              "      <td>Grand Theft Auto V</td>\n",
              "      <td>84996934</td>\n",
              "      <td>english</td>\n",
              "      <td>a</td>\n",
              "      <td>1611089687</td>\n",
              "      <td>1611089687</td>\n",
              "      <td>True</td>\n",
              "      <td>...</td>\n",
              "      <td>True</td>\n",
              "      <td>False</td>\n",
              "      <td>False</td>\n",
              "      <td>76561198311729059</td>\n",
              "      <td>16</td>\n",
              "      <td>1</td>\n",
              "      <td>1817.0</td>\n",
              "      <td>549.0</td>\n",
              "      <td>1817.0</td>\n",
              "      <td>1.611089e+09</td>\n",
              "    </tr>\n",
              "    <tr>\n",
              "      <th>4</th>\n",
              "      <td>12750223</td>\n",
              "      <td>12750226</td>\n",
              "      <td>271590</td>\n",
              "      <td>Grand Theft Auto V</td>\n",
              "      <td>84996088</td>\n",
              "      <td>english</td>\n",
              "      <td>It is one of the best games I’ve played.. Too ...</td>\n",
              "      <td>1611088541</td>\n",
              "      <td>1611088541</td>\n",
              "      <td>True</td>\n",
              "      <td>...</td>\n",
              "      <td>True</td>\n",
              "      <td>False</td>\n",
              "      <td>False</td>\n",
              "      <td>76561198883017613</td>\n",
              "      <td>9</td>\n",
              "      <td>1</td>\n",
              "      <td>5263.0</td>\n",
              "      <td>0.0</td>\n",
              "      <td>5263.0</td>\n",
              "      <td>1.609456e+09</td>\n",
              "    </tr>\n",
              "  </tbody>\n",
              "</table>\n",
              "<p>5 rows × 24 columns</p>\n",
              "</div>\n",
              "      <button class=\"colab-df-convert\" onclick=\"convertToInteractive('df-a9f5161b-7273-4e2a-a21c-a9275909fe36')\"\n",
              "              title=\"Convert this dataframe to an interactive table.\"\n",
              "              style=\"display:none;\">\n",
              "        \n",
              "  <svg xmlns=\"http://www.w3.org/2000/svg\" height=\"24px\"viewBox=\"0 0 24 24\"\n",
              "       width=\"24px\">\n",
              "    <path d=\"M0 0h24v24H0V0z\" fill=\"none\"/>\n",
              "    <path d=\"M18.56 5.44l.94 2.06.94-2.06 2.06-.94-2.06-.94-.94-2.06-.94 2.06-2.06.94zm-11 1L8.5 8.5l.94-2.06 2.06-.94-2.06-.94L8.5 2.5l-.94 2.06-2.06.94zm10 10l.94 2.06.94-2.06 2.06-.94-2.06-.94-.94-2.06-.94 2.06-2.06.94z\"/><path d=\"M17.41 7.96l-1.37-1.37c-.4-.4-.92-.59-1.43-.59-.52 0-1.04.2-1.43.59L10.3 9.45l-7.72 7.72c-.78.78-.78 2.05 0 2.83L4 21.41c.39.39.9.59 1.41.59.51 0 1.02-.2 1.41-.59l7.78-7.78 2.81-2.81c.8-.78.8-2.07 0-2.86zM5.41 20L4 18.59l7.72-7.72 1.47 1.35L5.41 20z\"/>\n",
              "  </svg>\n",
              "      </button>\n",
              "      \n",
              "  <style>\n",
              "    .colab-df-container {\n",
              "      display:flex;\n",
              "      flex-wrap:wrap;\n",
              "      gap: 12px;\n",
              "    }\n",
              "\n",
              "    .colab-df-convert {\n",
              "      background-color: #E8F0FE;\n",
              "      border: none;\n",
              "      border-radius: 50%;\n",
              "      cursor: pointer;\n",
              "      display: none;\n",
              "      fill: #1967D2;\n",
              "      height: 32px;\n",
              "      padding: 0 0 0 0;\n",
              "      width: 32px;\n",
              "    }\n",
              "\n",
              "    .colab-df-convert:hover {\n",
              "      background-color: #E2EBFA;\n",
              "      box-shadow: 0px 1px 2px rgba(60, 64, 67, 0.3), 0px 1px 3px 1px rgba(60, 64, 67, 0.15);\n",
              "      fill: #174EA6;\n",
              "    }\n",
              "\n",
              "    [theme=dark] .colab-df-convert {\n",
              "      background-color: #3B4455;\n",
              "      fill: #D2E3FC;\n",
              "    }\n",
              "\n",
              "    [theme=dark] .colab-df-convert:hover {\n",
              "      background-color: #434B5C;\n",
              "      box-shadow: 0px 1px 3px 1px rgba(0, 0, 0, 0.15);\n",
              "      filter: drop-shadow(0px 1px 2px rgba(0, 0, 0, 0.3));\n",
              "      fill: #FFFFFF;\n",
              "    }\n",
              "  </style>\n",
              "\n",
              "      <script>\n",
              "        const buttonEl =\n",
              "          document.querySelector('#df-a9f5161b-7273-4e2a-a21c-a9275909fe36 button.colab-df-convert');\n",
              "        buttonEl.style.display =\n",
              "          google.colab.kernel.accessAllowed ? 'block' : 'none';\n",
              "\n",
              "        async function convertToInteractive(key) {\n",
              "          const element = document.querySelector('#df-a9f5161b-7273-4e2a-a21c-a9275909fe36');\n",
              "          const dataTable =\n",
              "            await google.colab.kernel.invokeFunction('convertToInteractive',\n",
              "                                                     [key], {});\n",
              "          if (!dataTable) return;\n",
              "\n",
              "          const docLinkHtml = 'Like what you see? Visit the ' +\n",
              "            '<a target=\"_blank\" href=https://colab.research.google.com/notebooks/data_table.ipynb>data table notebook</a>'\n",
              "            + ' to learn more about interactive tables.';\n",
              "          element.innerHTML = '';\n",
              "          dataTable['output_type'] = 'display_data';\n",
              "          await google.colab.output.renderOutput(dataTable, element);\n",
              "          const docLink = document.createElement('div');\n",
              "          docLink.innerHTML = docLinkHtml;\n",
              "          element.appendChild(docLink);\n",
              "        }\n",
              "      </script>\n",
              "    </div>\n",
              "  </div>\n",
              "  "
            ]
          },
          "metadata": {},
          "execution_count": 4
        }
      ],
      "source": [
        "#exploring the data\n",
        "df.head()"
      ]
    },
    {
      "cell_type": "code",
      "execution_count": 5,
      "id": "18c3af5d",
      "metadata": {
        "ExecuteTime": {
          "start_time": "2022-12-14T21:33:32.074Z"
        },
        "colab": {
          "base_uri": "https://localhost:8080/"
        },
        "id": "18c3af5d",
        "outputId": "408c5bb6-1986-47c4-f5cf-6db59172481a"
      },
      "outputs": [
        {
          "output_type": "execute_result",
          "data": {
            "text/plain": [
              "Index(['Unnamed: 0', 'Unnamed: 0.1', 'app_id', 'app_name', 'review_id',\n",
              "       'language', 'review', 'timestamp_created', 'timestamp_updated',\n",
              "       'recommended', 'votes_helpful', 'votes_funny', 'weighted_vote_score',\n",
              "       'comment_count', 'steam_purchase', 'received_for_free',\n",
              "       'written_during_early_access', 'author.steamid',\n",
              "       'author.num_games_owned', 'author.num_reviews',\n",
              "       'author.playtime_forever', 'author.playtime_last_two_weeks',\n",
              "       'author.playtime_at_review', 'author.last_played'],\n",
              "      dtype='object')"
            ]
          },
          "metadata": {},
          "execution_count": 5
        }
      ],
      "source": [
        "#seeing columns\n",
        "df.columns"
      ]
    },
    {
      "cell_type": "code",
      "execution_count": 6,
      "id": "f532728b",
      "metadata": {
        "ExecuteTime": {
          "start_time": "2022-12-14T21:33:32.075Z"
        },
        "id": "f532728b"
      },
      "outputs": [],
      "source": [
        "#dropping irrelevant columns\n",
        "df.drop(['Unnamed: 0', 'Unnamed: 0.1', 'app_id', 'app_name', 'review_id',\n",
        "       'language', 'timestamp_created', 'timestamp_updated',\n",
        "    'votes_helpful', 'votes_funny', 'weighted_vote_score',\n",
        "       'comment_count', 'steam_purchase', 'received_for_free',\n",
        "       'written_during_early_access', 'author.steamid',\n",
        "       'author.num_games_owned', 'author.num_reviews',\n",
        "       'author.playtime_forever', 'author.playtime_last_two_weeks',\n",
        "       'author.playtime_at_review', 'author.last_played'], axis = 1, inplace= True)"
      ]
    },
    {
      "cell_type": "code",
      "execution_count": 7,
      "id": "29b21345",
      "metadata": {
        "ExecuteTime": {
          "start_time": "2022-12-14T21:33:32.076Z"
        },
        "colab": {
          "base_uri": "https://localhost:8080/",
          "height": 206
        },
        "id": "29b21345",
        "outputId": "a5744eb2-ada1-40c0-d787-b4416483798d"
      },
      "outputs": [
        {
          "output_type": "execute_result",
          "data": {
            "text/plain": [
              "                                              review  recommended\n",
              "0  It's fun.\\nWish the loading times for Online w...         True\n",
              "1                                                 hn         True\n",
              "2  ---{Graphics}---\\n☐ You forget what reality is...         True\n",
              "3                                                  a         True\n",
              "4  It is one of the best games I’ve played.. Too ...         True"
            ],
            "text/html": [
              "\n",
              "  <div id=\"df-e0842368-4f83-4ff0-a45f-5ef2682521e5\">\n",
              "    <div class=\"colab-df-container\">\n",
              "      <div>\n",
              "<style scoped>\n",
              "    .dataframe tbody tr th:only-of-type {\n",
              "        vertical-align: middle;\n",
              "    }\n",
              "\n",
              "    .dataframe tbody tr th {\n",
              "        vertical-align: top;\n",
              "    }\n",
              "\n",
              "    .dataframe thead th {\n",
              "        text-align: right;\n",
              "    }\n",
              "</style>\n",
              "<table border=\"1\" class=\"dataframe\">\n",
              "  <thead>\n",
              "    <tr style=\"text-align: right;\">\n",
              "      <th></th>\n",
              "      <th>review</th>\n",
              "      <th>recommended</th>\n",
              "    </tr>\n",
              "  </thead>\n",
              "  <tbody>\n",
              "    <tr>\n",
              "      <th>0</th>\n",
              "      <td>It's fun.\\nWish the loading times for Online w...</td>\n",
              "      <td>True</td>\n",
              "    </tr>\n",
              "    <tr>\n",
              "      <th>1</th>\n",
              "      <td>hn</td>\n",
              "      <td>True</td>\n",
              "    </tr>\n",
              "    <tr>\n",
              "      <th>2</th>\n",
              "      <td>---{Graphics}---\\n☐ You forget what reality is...</td>\n",
              "      <td>True</td>\n",
              "    </tr>\n",
              "    <tr>\n",
              "      <th>3</th>\n",
              "      <td>a</td>\n",
              "      <td>True</td>\n",
              "    </tr>\n",
              "    <tr>\n",
              "      <th>4</th>\n",
              "      <td>It is one of the best games I’ve played.. Too ...</td>\n",
              "      <td>True</td>\n",
              "    </tr>\n",
              "  </tbody>\n",
              "</table>\n",
              "</div>\n",
              "      <button class=\"colab-df-convert\" onclick=\"convertToInteractive('df-e0842368-4f83-4ff0-a45f-5ef2682521e5')\"\n",
              "              title=\"Convert this dataframe to an interactive table.\"\n",
              "              style=\"display:none;\">\n",
              "        \n",
              "  <svg xmlns=\"http://www.w3.org/2000/svg\" height=\"24px\"viewBox=\"0 0 24 24\"\n",
              "       width=\"24px\">\n",
              "    <path d=\"M0 0h24v24H0V0z\" fill=\"none\"/>\n",
              "    <path d=\"M18.56 5.44l.94 2.06.94-2.06 2.06-.94-2.06-.94-.94-2.06-.94 2.06-2.06.94zm-11 1L8.5 8.5l.94-2.06 2.06-.94-2.06-.94L8.5 2.5l-.94 2.06-2.06.94zm10 10l.94 2.06.94-2.06 2.06-.94-2.06-.94-.94-2.06-.94 2.06-2.06.94z\"/><path d=\"M17.41 7.96l-1.37-1.37c-.4-.4-.92-.59-1.43-.59-.52 0-1.04.2-1.43.59L10.3 9.45l-7.72 7.72c-.78.78-.78 2.05 0 2.83L4 21.41c.39.39.9.59 1.41.59.51 0 1.02-.2 1.41-.59l7.78-7.78 2.81-2.81c.8-.78.8-2.07 0-2.86zM5.41 20L4 18.59l7.72-7.72 1.47 1.35L5.41 20z\"/>\n",
              "  </svg>\n",
              "      </button>\n",
              "      \n",
              "  <style>\n",
              "    .colab-df-container {\n",
              "      display:flex;\n",
              "      flex-wrap:wrap;\n",
              "      gap: 12px;\n",
              "    }\n",
              "\n",
              "    .colab-df-convert {\n",
              "      background-color: #E8F0FE;\n",
              "      border: none;\n",
              "      border-radius: 50%;\n",
              "      cursor: pointer;\n",
              "      display: none;\n",
              "      fill: #1967D2;\n",
              "      height: 32px;\n",
              "      padding: 0 0 0 0;\n",
              "      width: 32px;\n",
              "    }\n",
              "\n",
              "    .colab-df-convert:hover {\n",
              "      background-color: #E2EBFA;\n",
              "      box-shadow: 0px 1px 2px rgba(60, 64, 67, 0.3), 0px 1px 3px 1px rgba(60, 64, 67, 0.15);\n",
              "      fill: #174EA6;\n",
              "    }\n",
              "\n",
              "    [theme=dark] .colab-df-convert {\n",
              "      background-color: #3B4455;\n",
              "      fill: #D2E3FC;\n",
              "    }\n",
              "\n",
              "    [theme=dark] .colab-df-convert:hover {\n",
              "      background-color: #434B5C;\n",
              "      box-shadow: 0px 1px 3px 1px rgba(0, 0, 0, 0.15);\n",
              "      filter: drop-shadow(0px 1px 2px rgba(0, 0, 0, 0.3));\n",
              "      fill: #FFFFFF;\n",
              "    }\n",
              "  </style>\n",
              "\n",
              "      <script>\n",
              "        const buttonEl =\n",
              "          document.querySelector('#df-e0842368-4f83-4ff0-a45f-5ef2682521e5 button.colab-df-convert');\n",
              "        buttonEl.style.display =\n",
              "          google.colab.kernel.accessAllowed ? 'block' : 'none';\n",
              "\n",
              "        async function convertToInteractive(key) {\n",
              "          const element = document.querySelector('#df-e0842368-4f83-4ff0-a45f-5ef2682521e5');\n",
              "          const dataTable =\n",
              "            await google.colab.kernel.invokeFunction('convertToInteractive',\n",
              "                                                     [key], {});\n",
              "          if (!dataTable) return;\n",
              "\n",
              "          const docLinkHtml = 'Like what you see? Visit the ' +\n",
              "            '<a target=\"_blank\" href=https://colab.research.google.com/notebooks/data_table.ipynb>data table notebook</a>'\n",
              "            + ' to learn more about interactive tables.';\n",
              "          element.innerHTML = '';\n",
              "          dataTable['output_type'] = 'display_data';\n",
              "          await google.colab.output.renderOutput(dataTable, element);\n",
              "          const docLink = document.createElement('div');\n",
              "          docLink.innerHTML = docLinkHtml;\n",
              "          element.appendChild(docLink);\n",
              "        }\n",
              "      </script>\n",
              "    </div>\n",
              "  </div>\n",
              "  "
            ]
          },
          "metadata": {},
          "execution_count": 7
        }
      ],
      "source": [
        "df.head()"
      ]
    },
    {
      "cell_type": "code",
      "execution_count": 8,
      "id": "e1a5628c",
      "metadata": {
        "ExecuteTime": {
          "start_time": "2022-12-14T21:33:32.076Z"
        },
        "colab": {
          "base_uri": "https://localhost:8080/"
        },
        "id": "e1a5628c",
        "outputId": "3b5f3476-26a9-4215-8e97-5eddb5c98887"
      },
      "outputs": [
        {
          "output_type": "execute_result",
          "data": {
            "text/plain": [
              "(319751, 2)"
            ]
          },
          "metadata": {},
          "execution_count": 8
        }
      ],
      "source": [
        "#shape of our dataframe\n",
        "df.shape"
      ]
    },
    {
      "cell_type": "code",
      "execution_count": 9,
      "id": "05db90c9",
      "metadata": {
        "ExecuteTime": {
          "start_time": "2022-12-14T21:33:32.077Z"
        },
        "scrolled": true,
        "colab": {
          "base_uri": "https://localhost:8080/"
        },
        "id": "05db90c9",
        "outputId": "5d7f7df8-213d-4cf3-98cb-a2d35ef3bbcb"
      },
      "outputs": [
        {
          "output_type": "stream",
          "name": "stdout",
          "text": [
            "<class 'pandas.core.frame.DataFrame'>\n",
            "RangeIndex: 319751 entries, 0 to 319750\n",
            "Data columns (total 2 columns):\n",
            " #   Column       Non-Null Count   Dtype \n",
            "---  ------       --------------   ----- \n",
            " 0   review       319099 non-null  object\n",
            " 1   recommended  319751 non-null  bool  \n",
            "dtypes: bool(1), object(1)\n",
            "memory usage: 2.7+ MB\n"
          ]
        }
      ],
      "source": [
        "#information about our dataframe\n",
        "df.info()"
      ]
    },
    {
      "cell_type": "code",
      "execution_count": 10,
      "id": "36ec1b4f",
      "metadata": {
        "ExecuteTime": {
          "start_time": "2022-12-14T21:33:32.077Z"
        },
        "scrolled": true,
        "colab": {
          "base_uri": "https://localhost:8080/",
          "height": 315
        },
        "id": "36ec1b4f",
        "outputId": "208991d4-297f-4cb4-efcd-d027222d0679"
      },
      "outputs": [
        {
          "output_type": "execute_result",
          "data": {
            "text/plain": [
              "Text(0.5, 1.0, 'Counts of recommendations')"
            ]
          },
          "metadata": {},
          "execution_count": 10
        },
        {
          "output_type": "display_data",
          "data": {
            "text/plain": [
              "<Figure size 432x288 with 1 Axes>"
            ],
            "image/png": "[encoded data removed]"
          },
          "metadata": {
            "needs_background": "light"
          }
        }
      ],
      "source": [
        "#plotting distribution of recommendations\n",
        "df['recommended'].value_counts().plot(kind='bar')\n",
        "plt.title(\"Counts of recommendations\")"
      ]
    },
    {
      "cell_type": "markdown",
      "id": "ea0fcd6d",
      "metadata": {
        "id": "ea0fcd6d"
      },
      "source": [
        "### Data Preparation and Pre-Processing"
      ]
    },
    {
      "cell_type": "code",
      "execution_count": 11,
      "id": "783b046a",
      "metadata": {
        "ExecuteTime": {
          "start_time": "2022-12-14T21:33:32.078Z"
        },
        "id": "783b046a"
      },
      "outputs": [],
      "source": [
        "#labelling 1 and 0 for recommendations\n",
        "df['recommend'] = df['recommended'].apply(lambda x: 1 if x == True else 0)"
      ]
    },
    {
      "cell_type": "code",
      "execution_count": 12,
      "id": "9b77f0e1",
      "metadata": {
        "ExecuteTime": {
          "start_time": "2022-12-14T21:33:32.079Z"
        },
        "colab": {
          "base_uri": "https://localhost:8080/",
          "height": 206
        },
        "id": "9b77f0e1",
        "outputId": "1b8059d9-71d2-49b0-be6d-ebcb52f2211a"
      },
      "outputs": [
        {
          "output_type": "execute_result",
          "data": {
            "text/plain": [
              "                                                   review  recommended  \\\n",
              "123031                                                yes         True   \n",
              "52153                     connection issues makes me sick        False   \n",
              "256892                  PUTANGINA ANG LUFET NITO MGA GAGO         True   \n",
              "117254       I like the knew stuff for the game online.\\n         True   \n",
              "218723  Shitty game that wants to take all your money ...        False   \n",
              "\n",
              "        recommend  \n",
              "123031          1  \n",
              "52153           0  \n",
              "256892          1  \n",
              "117254          1  \n",
              "218723          0  "
            ],
            "text/html": [
              "\n",
              "  <div id=\"df-72653cc5-a9e0-41f8-93cf-42aee36b9269\">\n",
              "    <div class=\"colab-df-container\">\n",
              "      <div>\n",
              "<style scoped>\n",
              "    .dataframe tbody tr th:only-of-type {\n",
              "        vertical-align: middle;\n",
              "    }\n",
              "\n",
              "    .dataframe tbody tr th {\n",
              "        vertical-align: top;\n",
              "    }\n",
              "\n",
              "    .dataframe thead th {\n",
              "        text-align: right;\n",
              "    }\n",
              "</style>\n",
              "<table border=\"1\" class=\"dataframe\">\n",
              "  <thead>\n",
              "    <tr style=\"text-align: right;\">\n",
              "      <th></th>\n",
              "      <th>review</th>\n",
              "      <th>recommended</th>\n",
              "      <th>recommend</th>\n",
              "    </tr>\n",
              "  </thead>\n",
              "  <tbody>\n",
              "    <tr>\n",
              "      <th>123031</th>\n",
              "      <td>yes</td>\n",
              "      <td>True</td>\n",
              "      <td>1</td>\n",
              "    </tr>\n",
              "    <tr>\n",
              "      <th>52153</th>\n",
              "      <td>connection issues makes me sick</td>\n",
              "      <td>False</td>\n",
              "      <td>0</td>\n",
              "    </tr>\n",
              "    <tr>\n",
              "      <th>256892</th>\n",
              "      <td>PUTANGINA ANG LUFET NITO MGA GAGO</td>\n",
              "      <td>True</td>\n",
              "      <td>1</td>\n",
              "    </tr>\n",
              "    <tr>\n",
              "      <th>117254</th>\n",
              "      <td>I like the knew stuff for the game online.\\n</td>\n",
              "      <td>True</td>\n",
              "      <td>1</td>\n",
              "    </tr>\n",
              "    <tr>\n",
              "      <th>218723</th>\n",
              "      <td>Shitty game that wants to take all your money ...</td>\n",
              "      <td>False</td>\n",
              "      <td>0</td>\n",
              "    </tr>\n",
              "  </tbody>\n",
              "</table>\n",
              "</div>\n",
              "      <button class=\"colab-df-convert\" onclick=\"convertToInteractive('df-72653cc5-a9e0-41f8-93cf-42aee36b9269')\"\n",
              "              title=\"Convert this dataframe to an interactive table.\"\n",
              "              style=\"display:none;\">\n",
              "        \n",
              "  <svg xmlns=\"http://www.w3.org/2000/svg\" height=\"24px\"viewBox=\"0 0 24 24\"\n",
              "       width=\"24px\">\n",
              "    <path d=\"M0 0h24v24H0V0z\" fill=\"none\"/>\n",
              "    <path d=\"M18.56 5.44l.94 2.06.94-2.06 2.06-.94-2.06-.94-.94-2.06-.94 2.06-2.06.94zm-11 1L8.5 8.5l.94-2.06 2.06-.94-2.06-.94L8.5 2.5l-.94 2.06-2.06.94zm10 10l.94 2.06.94-2.06 2.06-.94-2.06-.94-.94-2.06-.94 2.06-2.06.94z\"/><path d=\"M17.41 7.96l-1.37-1.37c-.4-.4-.92-.59-1.43-.59-.52 0-1.04.2-1.43.59L10.3 9.45l-7.72 7.72c-.78.78-.78 2.05 0 2.83L4 21.41c.39.39.9.59 1.41.59.51 0 1.02-.2 1.41-.59l7.78-7.78 2.81-2.81c.8-.78.8-2.07 0-2.86zM5.41 20L4 18.59l7.72-7.72 1.47 1.35L5.41 20z\"/>\n",
              "  </svg>\n",
              "      </button>\n",
              "      \n",
              "  <style>\n",
              "    .colab-df-container {\n",
              "      display:flex;\n",
              "      flex-wrap:wrap;\n",
              "      gap: 12px;\n",
              "    }\n",
              "\n",
              "    .colab-df-convert {\n",
              "      background-color: #E8F0FE;\n",
              "      border: none;\n",
              "      border-radius: 50%;\n",
              "      cursor: pointer;\n",
              "      display: none;\n",
              "      fill: #1967D2;\n",
              "      height: 32px;\n",
              "      padding: 0 0 0 0;\n",
              "      width: 32px;\n",
              "    }\n",
              "\n",
              "    .colab-df-convert:hover {\n",
              "      background-color: #E2EBFA;\n",
              "      box-shadow: 0px 1px 2px rgba(60, 64, 67, 0.3), 0px 1px 3px 1px rgba(60, 64, 67, 0.15);\n",
              "      fill: #174EA6;\n",
              "    }\n",
              "\n",
              "    [theme=dark] .colab-df-convert {\n",
              "      background-color: #3B4455;\n",
              "      fill: #D2E3FC;\n",
              "    }\n",
              "\n",
              "    [theme=dark] .colab-df-convert:hover {\n",
              "      background-color: #434B5C;\n",
              "      box-shadow: 0px 1px 3px 1px rgba(0, 0, 0, 0.15);\n",
              "      filter: drop-shadow(0px 1px 2px rgba(0, 0, 0, 0.3));\n",
              "      fill: #FFFFFF;\n",
              "    }\n",
              "  </style>\n",
              "\n",
              "      <script>\n",
              "        const buttonEl =\n",
              "          document.querySelector('#df-72653cc5-a9e0-41f8-93cf-42aee36b9269 button.colab-df-convert');\n",
              "        buttonEl.style.display =\n",
              "          google.colab.kernel.accessAllowed ? 'block' : 'none';\n",
              "\n",
              "        async function convertToInteractive(key) {\n",
              "          const element = document.querySelector('#df-72653cc5-a9e0-41f8-93cf-42aee36b9269');\n",
              "          const dataTable =\n",
              "            await google.colab.kernel.invokeFunction('convertToInteractive',\n",
              "                                                     [key], {});\n",
              "          if (!dataTable) return;\n",
              "\n",
              "          const docLinkHtml = 'Like what you see? Visit the ' +\n",
              "            '<a target=\"_blank\" href=https://colab.research.google.com/notebooks/data_table.ipynb>data table notebook</a>'\n",
              "            + ' to learn more about interactive tables.';\n",
              "          element.innerHTML = '';\n",
              "          dataTable['output_type'] = 'display_data';\n",
              "          await google.colab.output.renderOutput(dataTable, element);\n",
              "          const docLink = document.createElement('div');\n",
              "          docLink.innerHTML = docLinkHtml;\n",
              "          element.appendChild(docLink);\n",
              "        }\n",
              "      </script>\n",
              "    </div>\n",
              "  </div>\n",
              "  "
            ]
          },
          "metadata": {},
          "execution_count": 12
        }
      ],
      "source": [
        "df.sample(5)"
      ]
    },
    {
      "cell_type": "code",
      "execution_count": 13,
      "id": "ead96264",
      "metadata": {
        "ExecuteTime": {
          "start_time": "2022-12-14T21:33:32.080Z"
        },
        "id": "ead96264"
      },
      "outputs": [],
      "source": [
        "#dropping rows with NA values\n",
        "df.dropna(inplace = True)"
      ]
    },
    {
      "cell_type": "code",
      "execution_count": 14,
      "id": "33c3a6fa",
      "metadata": {
        "ExecuteTime": {
          "start_time": "2022-12-14T21:33:32.080Z"
        },
        "scrolled": true,
        "colab": {
          "base_uri": "https://localhost:8080/"
        },
        "id": "33c3a6fa",
        "outputId": "26aa0ede-530a-475a-bfae-e4a5d1c26ace"
      },
      "outputs": [
        {
          "output_type": "stream",
          "name": "stdout",
          "text": [
            "<class 'pandas.core.frame.DataFrame'>\n",
            "Int64Index: 319099 entries, 0 to 319750\n",
            "Data columns (total 3 columns):\n",
            " #   Column       Non-Null Count   Dtype \n",
            "---  ------       --------------   ----- \n",
            " 0   review       319099 non-null  object\n",
            " 1   recommended  319099 non-null  bool  \n",
            " 2   recommend    319099 non-null  int64 \n",
            "dtypes: bool(1), int64(1), object(1)\n",
            "memory usage: 7.6+ MB\n"
          ]
        }
      ],
      "source": [
        "df.info()"
      ]
    },
    {
      "cell_type": "code",
      "execution_count": 15,
      "id": "a9a1c083",
      "metadata": {
        "ExecuteTime": {
          "start_time": "2022-12-14T21:33:32.081Z"
        },
        "scrolled": true,
        "id": "a9a1c083"
      },
      "outputs": [],
      "source": [
        "#convert to lowercase \n",
        "df['cleaned_reviews'] = df['review'].map(lambda x: x.lower())"
      ]
    },
    {
      "cell_type": "code",
      "execution_count": 16,
      "id": "f95d0acb",
      "metadata": {
        "ExecuteTime": {
          "start_time": "2022-12-14T21:33:32.081Z"
        },
        "colab": {
          "base_uri": "https://localhost:8080/",
          "height": 206
        },
        "id": "f95d0acb",
        "outputId": "92757e29-3bb7-46a1-9d22-11a39516773b"
      },
      "outputs": [
        {
          "output_type": "execute_result",
          "data": {
            "text/plain": [
              "                                              review  recommended  recommend  \\\n",
              "0  It's fun.\\nWish the loading times for Online w...         True          1   \n",
              "1                                                 hn         True          1   \n",
              "2  ---{Graphics}---\\n☐ You forget what reality is...         True          1   \n",
              "3                                                  a         True          1   \n",
              "4  It is one of the best games I’ve played.. Too ...         True          1   \n",
              "\n",
              "                                     cleaned_reviews  \n",
              "0  it's fun.\\nwish the loading times for online w...  \n",
              "1                                                 hn  \n",
              "2  ---{graphics}---\\n☐ you forget what reality is...  \n",
              "3                                                  a  \n",
              "4  it is one of the best games i’ve played.. too ...  "
            ],
            "text/html": [
              "\n",
              "  <div id=\"df-43e2a93e-d67d-47a0-8df4-bc231583dd35\">\n",
              "    <div class=\"colab-df-container\">\n",
              "      <div>\n",
              "<style scoped>\n",
              "    .dataframe tbody tr th:only-of-type {\n",
              "        vertical-align: middle;\n",
              "    }\n",
              "\n",
              "    .dataframe tbody tr th {\n",
              "        vertical-align: top;\n",
              "    }\n",
              "\n",
              "    .dataframe thead th {\n",
              "        text-align: right;\n",
              "    }\n",
              "</style>\n",
              "<table border=\"1\" class=\"dataframe\">\n",
              "  <thead>\n",
              "    <tr style=\"text-align: right;\">\n",
              "      <th></th>\n",
              "      <th>review</th>\n",
              "      <th>recommended</th>\n",
              "      <th>recommend</th>\n",
              "      <th>cleaned_reviews</th>\n",
              "    </tr>\n",
              "  </thead>\n",
              "  <tbody>\n",
              "    <tr>\n",
              "      <th>0</th>\n",
              "      <td>It's fun.\\nWish the loading times for Online w...</td>\n",
              "      <td>True</td>\n",
              "      <td>1</td>\n",
              "      <td>it's fun.\\nwish the loading times for online w...</td>\n",
              "    </tr>\n",
              "    <tr>\n",
              "      <th>1</th>\n",
              "      <td>hn</td>\n",
              "      <td>True</td>\n",
              "      <td>1</td>\n",
              "      <td>hn</td>\n",
              "    </tr>\n",
              "    <tr>\n",
              "      <th>2</th>\n",
              "      <td>---{Graphics}---\\n☐ You forget what reality is...</td>\n",
              "      <td>True</td>\n",
              "      <td>1</td>\n",
              "      <td>---{graphics}---\\n☐ you forget what reality is...</td>\n",
              "    </tr>\n",
              "    <tr>\n",
              "      <th>3</th>\n",
              "      <td>a</td>\n",
              "      <td>True</td>\n",
              "      <td>1</td>\n",
              "      <td>a</td>\n",
              "    </tr>\n",
              "    <tr>\n",
              "      <th>4</th>\n",
              "      <td>It is one of the best games I’ve played.. Too ...</td>\n",
              "      <td>True</td>\n",
              "      <td>1</td>\n",
              "      <td>it is one of the best games i’ve played.. too ...</td>\n",
              "    </tr>\n",
              "  </tbody>\n",
              "</table>\n",
              "</div>\n",
              "      <button class=\"colab-df-convert\" onclick=\"convertToInteractive('df-43e2a93e-d67d-47a0-8df4-bc231583dd35')\"\n",
              "              title=\"Convert this dataframe to an interactive table.\"\n",
              "              style=\"display:none;\">\n",
              "        \n",
              "  <svg xmlns=\"http://www.w3.org/2000/svg\" height=\"24px\"viewBox=\"0 0 24 24\"\n",
              "       width=\"24px\">\n",
              "    <path d=\"M0 0h24v24H0V0z\" fill=\"none\"/>\n",
              "    <path d=\"M18.56 5.44l.94 2.06.94-2.06 2.06-.94-2.06-.94-.94-2.06-.94 2.06-2.06.94zm-11 1L8.5 8.5l.94-2.06 2.06-.94-2.06-.94L8.5 2.5l-.94 2.06-2.06.94zm10 10l.94 2.06.94-2.06 2.06-.94-2.06-.94-.94-2.06-.94 2.06-2.06.94z\"/><path d=\"M17.41 7.96l-1.37-1.37c-.4-.4-.92-.59-1.43-.59-.52 0-1.04.2-1.43.59L10.3 9.45l-7.72 7.72c-.78.78-.78 2.05 0 2.83L4 21.41c.39.39.9.59 1.41.59.51 0 1.02-.2 1.41-.59l7.78-7.78 2.81-2.81c.8-.78.8-2.07 0-2.86zM5.41 20L4 18.59l7.72-7.72 1.47 1.35L5.41 20z\"/>\n",
              "  </svg>\n",
              "      </button>\n",
              "      \n",
              "  <style>\n",
              "    .colab-df-container {\n",
              "      display:flex;\n",
              "      flex-wrap:wrap;\n",
              "      gap: 12px;\n",
              "    }\n",
              "\n",
              "    .colab-df-convert {\n",
              "      background-color: #E8F0FE;\n",
              "      border: none;\n",
              "      border-radius: 50%;\n",
              "      cursor: pointer;\n",
              "      display: none;\n",
              "      fill: #1967D2;\n",
              "      height: 32px;\n",
              "      padding: 0 0 0 0;\n",
              "      width: 32px;\n",
              "    }\n",
              "\n",
              "    .colab-df-convert:hover {\n",
              "      background-color: #E2EBFA;\n",
              "      box-shadow: 0px 1px 2px rgba(60, 64, 67, 0.3), 0px 1px 3px 1px rgba(60, 64, 67, 0.15);\n",
              "      fill: #174EA6;\n",
              "    }\n",
              "\n",
              "    [theme=dark] .colab-df-convert {\n",
              "      background-color: #3B4455;\n",
              "      fill: #D2E3FC;\n",
              "    }\n",
              "\n",
              "    [theme=dark] .colab-df-convert:hover {\n",
              "      background-color: #434B5C;\n",
              "      box-shadow: 0px 1px 3px 1px rgba(0, 0, 0, 0.15);\n",
              "      filter: drop-shadow(0px 1px 2px rgba(0, 0, 0, 0.3));\n",
              "      fill: #FFFFFF;\n",
              "    }\n",
              "  </style>\n",
              "\n",
              "      <script>\n",
              "        const buttonEl =\n",
              "          document.querySelector('#df-43e2a93e-d67d-47a0-8df4-bc231583dd35 button.colab-df-convert');\n",
              "        buttonEl.style.display =\n",
              "          google.colab.kernel.accessAllowed ? 'block' : 'none';\n",
              "\n",
              "        async function convertToInteractive(key) {\n",
              "          const element = document.querySelector('#df-43e2a93e-d67d-47a0-8df4-bc231583dd35');\n",
              "          const dataTable =\n",
              "            await google.colab.kernel.invokeFunction('convertToInteractive',\n",
              "                                                     [key], {});\n",
              "          if (!dataTable) return;\n",
              "\n",
              "          const docLinkHtml = 'Like what you see? Visit the ' +\n",
              "            '<a target=\"_blank\" href=https://colab.research.google.com/notebooks/data_table.ipynb>data table notebook</a>'\n",
              "            + ' to learn more about interactive tables.';\n",
              "          element.innerHTML = '';\n",
              "          dataTable['output_type'] = 'display_data';\n",
              "          await google.colab.output.renderOutput(dataTable, element);\n",
              "          const docLink = document.createElement('div');\n",
              "          docLink.innerHTML = docLinkHtml;\n",
              "          element.appendChild(docLink);\n",
              "        }\n",
              "      </script>\n",
              "    </div>\n",
              "  </div>\n",
              "  "
            ]
          },
          "metadata": {},
          "execution_count": 16
        }
      ],
      "source": [
        "df.head()"
      ]
    },
    {
      "cell_type": "code",
      "execution_count": 17,
      "id": "966d890a",
      "metadata": {
        "ExecuteTime": {
          "start_time": "2022-12-14T21:33:32.082Z"
        },
        "colab": {
          "base_uri": "https://localhost:8080/"
        },
        "id": "966d890a",
        "outputId": "eff41312-62c9-4a23-8d85-2118bb6384fe"
      },
      "outputs": [
        {
          "output_type": "stream",
          "name": "stdout",
          "text": [
            "['i', 'me', 'my', 'myself', 'we', 'our', 'ours', 'ourselves', 'you', \"you're\", \"you've\", \"you'll\", \"you'd\", 'your', 'yours', 'yourself', 'yourselves', 'he', 'him', 'his', 'himself', 'she', \"she's\", 'her', 'hers', 'herself', 'it', \"it's\", 'its', 'itself', 'they', 'them', 'their', 'theirs', 'themselves', 'what', 'which', 'who', 'whom', 'this', 'that', \"that'll\", 'these', 'those', 'am', 'is', 'are', 'was', 'were', 'be', 'been', 'being', 'have', 'has', 'had', 'having', 'do', 'does', 'did', 'doing', 'a', 'an', 'the', 'and', 'but', 'if', 'or', 'because', 'as', 'until', 'while', 'of', 'at', 'by', 'for', 'with', 'about', 'against', 'between', 'into', 'through', 'during', 'before', 'after', 'above', 'below', 'to', 'from', 'up', 'down', 'in', 'out', 'on', 'off', 'over', 'under', 'again', 'further', 'then', 'once', 'here', 'there', 'when', 'where', 'why', 'how', 'all', 'any', 'both', 'each', 'few', 'more', 'most', 'other', 'some', 'such', 'no', 'nor', 'not', 'only', 'own', 'same', 'so', 'than', 'too', 'very', 's', 't', 'can', 'will', 'just', 'don', \"don't\", 'should', \"should've\", 'now', 'd', 'll', 'm', 'o', 're', 've', 'y', 'ain', 'aren', \"aren't\", 'couldn', \"couldn't\", 'didn', \"didn't\", 'doesn', \"doesn't\", 'hadn', \"hadn't\", 'hasn', \"hasn't\", 'haven', \"haven't\", 'isn', \"isn't\", 'ma', 'mightn', \"mightn't\", 'mustn', \"mustn't\", 'needn', \"needn't\", 'shan', \"shan't\", 'shouldn', \"shouldn't\", 'wasn', \"wasn't\", 'weren', \"weren't\", 'won', \"won't\", 'wouldn', \"wouldn't\"]\n"
          ]
        },
        {
          "output_type": "stream",
          "name": "stderr",
          "text": [
            "[nltk_data] Downloading package stopwords to /root/nltk_data...\n",
            "[nltk_data]   Package stopwords is already up-to-date!\n"
          ]
        }
      ],
      "source": [
        "#stopwords using nltk stopwords\n",
        "nltk.download('stopwords')\n",
        "print(stopwords.words('english'))"
      ]
    },
    {
      "cell_type": "code",
      "execution_count": 18,
      "id": "8d34870d",
      "metadata": {
        "ExecuteTime": {
          "start_time": "2022-12-14T21:33:32.082Z"
        },
        "id": "8d34870d"
      },
      "outputs": [],
      "source": [
        "#removing stopwords\n",
        "stop = stopwords.words('english')\n",
        "df['cleaned_reviews'] = df['cleaned_reviews'].apply(lambda x: ' '.join([word for word in x.split() if word not in (stop)]))\n"
      ]
    },
    {
      "cell_type": "code",
      "execution_count": 19,
      "id": "94a10ba0",
      "metadata": {
        "ExecuteTime": {
          "start_time": "2022-12-14T21:33:32.083Z"
        },
        "id": "94a10ba0"
      },
      "outputs": [],
      "source": [
        "#regex to remove \\n, multiples spaces b/w words, grouping different represenations of 5 and GTA\n",
        "df['cleaned_reviews'] = df['cleaned_reviews'].apply(lambda x: re.sub(\"\\n\",\"\",x))\n",
        "df['cleaned_reviews'] = df['cleaned_reviews'].apply(lambda x: re.sub(\"\\s+\",\" \",x))\n",
        "df['cleaned_reviews'] = df['cleaned_reviews'].apply(lambda x: re.sub(\"\\bgta\\b|\\bgta\\s?v\\b|\\bgrand theft auto\\b|\\bgrand theft\\b|\\bgta\\s?5\\b\",\"GTA\",x))\n",
        "df['cleaned_reviews'] = df['cleaned_reviews'].apply(lambda x: re.sub(\"\\bv\\b|\\b5\\b|\\bfive\\b\",\"FIVE\",x))\n"
      ]
    },
    {
      "cell_type": "code",
      "execution_count": 20,
      "id": "a550f333",
      "metadata": {
        "ExecuteTime": {
          "start_time": "2022-12-14T21:33:32.083Z"
        },
        "id": "a550f333"
      },
      "outputs": [],
      "source": [
        "#replace common entities/concept \n",
        "from textacy.preprocessing.replace import urls, hashtags, numbers, emails, emojis, currency_symbols\n",
        "df[\"cleaned_reviews\"] = df['cleaned_reviews'].\\\n",
        "  apply(urls).\\\n",
        "  apply(hashtags).\\\n",
        "  apply(currency_symbols).\\\n",
        "  apply(emojis).\\\n",
        "  apply(emails).\\\n",
        "  apply(numbers)"
      ]
    },
    {
      "cell_type": "code",
      "execution_count": 21,
      "id": "1ea750b9",
      "metadata": {
        "ExecuteTime": {
          "start_time": "2022-12-14T21:33:32.084Z"
        },
        "id": "1ea750b9"
      },
      "outputs": [],
      "source": [
        "#remove punctuation\n",
        "df[\"cleaned_reviews\"] = df['cleaned_reviews'].apply(punctuation)"
      ]
    },
    {
      "cell_type": "code",
      "execution_count": 22,
      "id": "78ea3bb3",
      "metadata": {
        "ExecuteTime": {
          "start_time": "2022-12-14T21:33:32.084Z"
        },
        "colab": {
          "base_uri": "https://localhost:8080/",
          "height": 206
        },
        "id": "78ea3bb3",
        "outputId": "a33190ea-df65-4df3-c17b-e820e318ac2a"
      },
      "outputs": [
        {
          "output_type": "execute_result",
          "data": {
            "text/plain": [
              "                                              review  recommended  recommend  \\\n",
              "0  It's fun.\\nWish the loading times for Online w...         True          1   \n",
              "1                                                 hn         True          1   \n",
              "2  ---{Graphics}---\\n☐ You forget what reality is...         True          1   \n",
              "3                                                  a         True          1   \n",
              "4  It is one of the best games I’ve played.. Too ...         True          1   \n",
              "\n",
              "                                     cleaned_reviews  \n",
              "0  fun  wish loading times online better  also  l...  \n",
              "1                                                 hn  \n",
              "2      graphics      EMOJI  forget reality  EMOJI...  \n",
              "3                                                     \n",
              "4  one best games i ve played   bad online mode f...  "
            ],
            "text/html": [
              "\n",
              "  <div id=\"df-72c71784-3346-4354-888b-e839dff6558f\">\n",
              "    <div class=\"colab-df-container\">\n",
              "      <div>\n",
              "<style scoped>\n",
              "    .dataframe tbody tr th:only-of-type {\n",
              "        vertical-align: middle;\n",
              "    }\n",
              "\n",
              "    .dataframe tbody tr th {\n",
              "        vertical-align: top;\n",
              "    }\n",
              "\n",
              "    .dataframe thead th {\n",
              "        text-align: right;\n",
              "    }\n",
              "</style>\n",
              "<table border=\"1\" class=\"dataframe\">\n",
              "  <thead>\n",
              "    <tr style=\"text-align: right;\">\n",
              "      <th></th>\n",
              "      <th>review</th>\n",
              "      <th>recommended</th>\n",
              "      <th>recommend</th>\n",
              "      <th>cleaned_reviews</th>\n",
              "    </tr>\n",
              "  </thead>\n",
              "  <tbody>\n",
              "    <tr>\n",
              "      <th>0</th>\n",
              "      <td>It's fun.\\nWish the loading times for Online w...</td>\n",
              "      <td>True</td>\n",
              "      <td>1</td>\n",
              "      <td>fun  wish loading times online better  also  l...</td>\n",
              "    </tr>\n",
              "    <tr>\n",
              "      <th>1</th>\n",
              "      <td>hn</td>\n",
              "      <td>True</td>\n",
              "      <td>1</td>\n",
              "      <td>hn</td>\n",
              "    </tr>\n",
              "    <tr>\n",
              "      <th>2</th>\n",
              "      <td>---{Graphics}---\\n☐ You forget what reality is...</td>\n",
              "      <td>True</td>\n",
              "      <td>1</td>\n",
              "      <td>graphics      EMOJI  forget reality  EMOJI...</td>\n",
              "    </tr>\n",
              "    <tr>\n",
              "      <th>3</th>\n",
              "      <td>a</td>\n",
              "      <td>True</td>\n",
              "      <td>1</td>\n",
              "      <td></td>\n",
              "    </tr>\n",
              "    <tr>\n",
              "      <th>4</th>\n",
              "      <td>It is one of the best games I’ve played.. Too ...</td>\n",
              "      <td>True</td>\n",
              "      <td>1</td>\n",
              "      <td>one best games i ve played   bad online mode f...</td>\n",
              "    </tr>\n",
              "  </tbody>\n",
              "</table>\n",
              "</div>\n",
              "      <button class=\"colab-df-convert\" onclick=\"convertToInteractive('df-72c71784-3346-4354-888b-e839dff6558f')\"\n",
              "              title=\"Convert this dataframe to an interactive table.\"\n",
              "              style=\"display:none;\">\n",
              "        \n",
              "  <svg xmlns=\"http://www.w3.org/2000/svg\" height=\"24px\"viewBox=\"0 0 24 24\"\n",
              "       width=\"24px\">\n",
              "    <path d=\"M0 0h24v24H0V0z\" fill=\"none\"/>\n",
              "    <path d=\"M18.56 5.44l.94 2.06.94-2.06 2.06-.94-2.06-.94-.94-2.06-.94 2.06-2.06.94zm-11 1L8.5 8.5l.94-2.06 2.06-.94-2.06-.94L8.5 2.5l-.94 2.06-2.06.94zm10 10l.94 2.06.94-2.06 2.06-.94-2.06-.94-.94-2.06-.94 2.06-2.06.94z\"/><path d=\"M17.41 7.96l-1.37-1.37c-.4-.4-.92-.59-1.43-.59-.52 0-1.04.2-1.43.59L10.3 9.45l-7.72 7.72c-.78.78-.78 2.05 0 2.83L4 21.41c.39.39.9.59 1.41.59.51 0 1.02-.2 1.41-.59l7.78-7.78 2.81-2.81c.8-.78.8-2.07 0-2.86zM5.41 20L4 18.59l7.72-7.72 1.47 1.35L5.41 20z\"/>\n",
              "  </svg>\n",
              "      </button>\n",
              "      \n",
              "  <style>\n",
              "    .colab-df-container {\n",
              "      display:flex;\n",
              "      flex-wrap:wrap;\n",
              "      gap: 12px;\n",
              "    }\n",
              "\n",
              "    .colab-df-convert {\n",
              "      background-color: #E8F0FE;\n",
              "      border: none;\n",
              "      border-radius: 50%;\n",
              "      cursor: pointer;\n",
              "      display: none;\n",
              "      fill: #1967D2;\n",
              "      height: 32px;\n",
              "      padding: 0 0 0 0;\n",
              "      width: 32px;\n",
              "    }\n",
              "\n",
              "    .colab-df-convert:hover {\n",
              "      background-color: #E2EBFA;\n",
              "      box-shadow: 0px 1px 2px rgba(60, 64, 67, 0.3), 0px 1px 3px 1px rgba(60, 64, 67, 0.15);\n",
              "      fill: #174EA6;\n",
              "    }\n",
              "\n",
              "    [theme=dark] .colab-df-convert {\n",
              "      background-color: #3B4455;\n",
              "      fill: #D2E3FC;\n",
              "    }\n",
              "\n",
              "    [theme=dark] .colab-df-convert:hover {\n",
              "      background-color: #434B5C;\n",
              "      box-shadow: 0px 1px 3px 1px rgba(0, 0, 0, 0.15);\n",
              "      filter: drop-shadow(0px 1px 2px rgba(0, 0, 0, 0.3));\n",
              "      fill: #FFFFFF;\n",
              "    }\n",
              "  </style>\n",
              "\n",
              "      <script>\n",
              "        const buttonEl =\n",
              "          document.querySelector('#df-72c71784-3346-4354-888b-e839dff6558f button.colab-df-convert');\n",
              "        buttonEl.style.display =\n",
              "          google.colab.kernel.accessAllowed ? 'block' : 'none';\n",
              "\n",
              "        async function convertToInteractive(key) {\n",
              "          const element = document.querySelector('#df-72c71784-3346-4354-888b-e839dff6558f');\n",
              "          const dataTable =\n",
              "            await google.colab.kernel.invokeFunction('convertToInteractive',\n",
              "                                                     [key], {});\n",
              "          if (!dataTable) return;\n",
              "\n",
              "          const docLinkHtml = 'Like what you see? Visit the ' +\n",
              "            '<a target=\"_blank\" href=https://colab.research.google.com/notebooks/data_table.ipynb>data table notebook</a>'\n",
              "            + ' to learn more about interactive tables.';\n",
              "          element.innerHTML = '';\n",
              "          dataTable['output_type'] = 'display_data';\n",
              "          await google.colab.output.renderOutput(dataTable, element);\n",
              "          const docLink = document.createElement('div');\n",
              "          docLink.innerHTML = docLinkHtml;\n",
              "          element.appendChild(docLink);\n",
              "        }\n",
              "      </script>\n",
              "    </div>\n",
              "  </div>\n",
              "  "
            ]
          },
          "metadata": {},
          "execution_count": 22
        }
      ],
      "source": [
        "df.head()"
      ]
    },
    {
      "cell_type": "markdown",
      "id": "5f1c0103",
      "metadata": {
        "heading_collapsed": true,
        "id": "5f1c0103"
      },
      "source": [
        "### Logistic Regression using Tfid Vectorizer"
      ]
    },
    {
      "cell_type": "code",
      "execution_count": 23,
      "id": "d282e956",
      "metadata": {
        "ExecuteTime": {
          "start_time": "2022-12-14T21:33:32.085Z"
        },
        "hidden": true,
        "id": "d282e956"
      },
      "outputs": [],
      "source": [
        "#creating a vectorizer object\n",
        "vectorizer = TfidfVectorizer()"
      ]
    },
    {
      "cell_type": "code",
      "execution_count": 24,
      "id": "4597b0a3",
      "metadata": {
        "ExecuteTime": {
          "start_time": "2022-12-14T21:33:32.086Z"
        },
        "hidden": true,
        "id": "4597b0a3"
      },
      "outputs": [],
      "source": [
        "#creating X and y dataframes\n",
        "X = vectorizer.fit_transform(df[\"cleaned_reviews\"])\n",
        "y = df[\"recommend\"]"
      ]
    },
    {
      "cell_type": "code",
      "execution_count": 25,
      "id": "c978cb54",
      "metadata": {
        "ExecuteTime": {
          "start_time": "2022-12-14T21:33:32.086Z"
        },
        "hidden": true,
        "id": "c978cb54"
      },
      "outputs": [],
      "source": [
        "#splitting data into 70:30\n",
        "X_train, X_test, y_train, y_test = train_test_split(X, y, random_state = 50, test_size = 0.3)"
      ]
    },
    {
      "cell_type": "code",
      "execution_count": 26,
      "id": "2c1643c2",
      "metadata": {
        "ExecuteTime": {
          "start_time": "2022-12-14T21:33:32.087Z"
        },
        "hidden": true,
        "id": "2c1643c2"
      },
      "outputs": [],
      "source": [
        "#creating a Logistic Regression object\n",
        "lr = LogisticRegression(max_iter=300)\n",
        "lr.fit(X_train, y_train)\n",
        "y_pred = lr.predict(X_test)"
      ]
    },
    {
      "cell_type": "code",
      "execution_count": 27,
      "id": "39039345",
      "metadata": {
        "ExecuteTime": {
          "start_time": "2022-12-14T21:33:32.088Z"
        },
        "hidden": true,
        "colab": {
          "base_uri": "https://localhost:8080/"
        },
        "id": "39039345",
        "outputId": "2e47f738-9e2c-47b2-8d64-7b2687e9fe84"
      },
      "outputs": [
        {
          "output_type": "execute_result",
          "data": {
            "text/plain": [
              "array([[0.73246295, 0.26753705],\n",
              "       [0.04373583, 0.95626417]])"
            ]
          },
          "metadata": {},
          "execution_count": 27
        }
      ],
      "source": [
        "#get confusion matrix\n",
        "confusion_matrix(y_test, y_pred,  normalize=\"true\")"
      ]
    },
    {
      "cell_type": "code",
      "execution_count": 28,
      "id": "58bba170",
      "metadata": {
        "ExecuteTime": {
          "start_time": "2022-12-14T21:33:32.088Z"
        },
        "hidden": true,
        "colab": {
          "base_uri": "https://localhost:8080/"
        },
        "id": "58bba170",
        "outputId": "9985cfe2-b9b6-4591-bc64-8df670ea7365"
      },
      "outputs": [
        {
          "output_type": "stream",
          "name": "stdout",
          "text": [
            "ROC AUC Score: 84.436%\n",
            "F1 Score: 89.805%\n",
            "Accuracy: 90.06%\n"
          ]
        }
      ],
      "source": [
        "#getting the roc score, accuracy and the f1 score\n",
        "print(f'ROC AUC Score: {round(roc_auc_score(y_test, y_pred, multi_class=\"ovo\")*100,3)}%')\n",
        "print(f'F1 Score: {round(f1_score(y_test, y_pred, average= \"weighted\")*100,3)}%')\n",
        "print(f'Accuracy: {round(accuracy_score(y_test, y_pred)*100,2)}%')"
      ]
    },
    {
      "cell_type": "code",
      "execution_count": 29,
      "id": "65dedff8",
      "metadata": {
        "ExecuteTime": {
          "start_time": "2022-12-14T21:33:32.089Z"
        },
        "hidden": true,
        "colab": {
          "base_uri": "https://localhost:8080/",
          "height": 283
        },
        "id": "65dedff8",
        "outputId": "d31a481a-8677-4ace-ae4b-9da8c0bfa056"
      },
      "outputs": [
        {
          "output_type": "execute_result",
          "data": {
            "text/plain": [
              "<matplotlib.axes._subplots.AxesSubplot at 0x7fd218c74ca0>"
            ]
          },
          "metadata": {},
          "execution_count": 29
        },
        {
          "output_type": "display_data",
          "data": {
            "text/plain": [
              "<Figure size 432x288 with 2 Axes>"
            ],
            "image/png": "[encoded data removed]"
          },
          "metadata": {
            "needs_background": "light"
          }
        }
      ],
      "source": [
        "#plotting a confusion matrix\n",
        "ax= plt.subplot()\n",
        "cm = confusion_matrix(y_test, y_pred, normalize=\"true\")\n",
        "sns.heatmap(cm, annot=True, fmt= \".0%\", ax=ax)"
      ]
    },
    {
      "cell_type": "markdown",
      "id": "7223a6d6",
      "metadata": {
        "heading_collapsed": true,
        "id": "7223a6d6"
      },
      "source": [
        "### Random Forest using CountVectorizer"
      ]
    },
    {
      "cell_type": "code",
      "execution_count": 30,
      "id": "5335b248",
      "metadata": {
        "ExecuteTime": {
          "start_time": "2022-12-14T21:33:32.090Z"
        },
        "hidden": true,
        "id": "5335b248"
      },
      "outputs": [],
      "source": [
        "#creating a vectorizer object\n",
        "vectorizer = CountVectorizer()"
      ]
    },
    {
      "cell_type": "code",
      "execution_count": 31,
      "id": "3e646a30",
      "metadata": {
        "ExecuteTime": {
          "start_time": "2022-12-14T21:33:32.090Z"
        },
        "hidden": true,
        "id": "3e646a30"
      },
      "outputs": [],
      "source": [
        "#creating X and y dataframes\n",
        "X = vectorizer.fit_transform(df[\"cleaned_reviews\"])\n",
        "y = df[\"recommend\"]"
      ]
    },
    {
      "cell_type": "code",
      "execution_count": 32,
      "id": "3824e27e",
      "metadata": {
        "ExecuteTime": {
          "start_time": "2022-12-14T21:33:32.091Z"
        },
        "hidden": true,
        "id": "3824e27e"
      },
      "outputs": [],
      "source": [
        "#splitting data into 70:30\n",
        "X_train, X_test, y_train, y_test = train_test_split(X, y, random_state = 50, test_size = 0.3)"
      ]
    },
    {
      "cell_type": "code",
      "execution_count": 33,
      "id": "5641c609",
      "metadata": {
        "ExecuteTime": {
          "start_time": "2022-12-14T21:33:32.091Z"
        },
        "hidden": true,
        "id": "5641c609"
      },
      "outputs": [],
      "source": [
        "#creating a Random Forest object\n",
        "rf = RandomForestClassifier()\n",
        "rf.fit(X_train, y_train)\n",
        "y_pred = rf.predict(X_test)"
      ]
    },
    {
      "cell_type": "code",
      "execution_count": 34,
      "id": "fd23184b",
      "metadata": {
        "ExecuteTime": {
          "start_time": "2022-12-14T21:33:32.092Z"
        },
        "hidden": true,
        "colab": {
          "base_uri": "https://localhost:8080/"
        },
        "id": "fd23184b",
        "outputId": "e004c272-3f05-4c6e-deea-7bf827cf7c4b"
      },
      "outputs": [
        {
          "output_type": "execute_result",
          "data": {
            "text/plain": [
              "array([[0.73703875, 0.26296125],\n",
              "       [0.05433256, 0.94566744]])"
            ]
          },
          "metadata": {},
          "execution_count": 34
        }
      ],
      "source": [
        "#get confusion matrix\n",
        "confusion_matrix(y_test, y_pred,  normalize=\"true\")"
      ]
    },
    {
      "cell_type": "code",
      "execution_count": 35,
      "id": "7106bcc4",
      "metadata": {
        "ExecuteTime": {
          "start_time": "2022-12-14T21:33:32.092Z"
        },
        "hidden": true,
        "colab": {
          "base_uri": "https://localhost:8080/"
        },
        "id": "7106bcc4",
        "outputId": "1c16ecd6-9e4c-4264-b0c7-18d1267f1bfc"
      },
      "outputs": [
        {
          "output_type": "stream",
          "name": "stdout",
          "text": [
            "ROC AUC Score: 84.135%\n",
            "F1 Score: 89.184%\n",
            "Accuracy: 89.38%\n"
          ]
        }
      ],
      "source": [
        "#getting the roc score, accuracy and the f1 score\n",
        "print(f'ROC AUC Score: {round(roc_auc_score(y_test, y_pred, multi_class=\"ovo\")*100,3)}%')\n",
        "print(f'F1 Score: {round(f1_score(y_test, y_pred, average= \"weighted\")*100,3)}%')\n",
        "print(f'Accuracy: {round(accuracy_score(y_test, y_pred)*100,2)}%')"
      ]
    },
    {
      "cell_type": "code",
      "execution_count": 36,
      "id": "6e736d67",
      "metadata": {
        "ExecuteTime": {
          "start_time": "2022-12-14T21:33:32.093Z"
        },
        "hidden": true,
        "colab": {
          "base_uri": "https://localhost:8080/",
          "height": 283
        },
        "id": "6e736d67",
        "outputId": "6c169218-312b-48ea-cee5-1d0b7a821251"
      },
      "outputs": [
        {
          "output_type": "execute_result",
          "data": {
            "text/plain": [
              "<matplotlib.axes._subplots.AxesSubplot at 0x7fd21bc12250>"
            ]
          },
          "metadata": {},
          "execution_count": 36
        },
        {
          "output_type": "display_data",
          "data": {
            "text/plain": [
              "<Figure size 432x288 with 2 Axes>"
            ],
            "image/png": "[encoded data removed]"
          },
          "metadata": {
            "needs_background": "light"
          }
        }
      ],
      "source": [
        "#plotting a confusion matrix\n",
        "ax= plt.subplot()\n",
        "cm = confusion_matrix(y_test, y_pred, normalize=\"true\")\n",
        "sns.heatmap(cm, annot=True, fmt= \".0%\", ax=ax)"
      ]
    },
    {
      "cell_type": "markdown",
      "id": "af9edd4c",
      "metadata": {
        "id": "af9edd4c"
      },
      "source": [
        "### Recurrent Neural Network"
      ]
    },
    {
      "cell_type": "code",
      "execution_count": 37,
      "id": "f0736c23",
      "metadata": {
        "ExecuteTime": {
          "start_time": "2022-12-14T21:33:32.094Z"
        },
        "id": "f0736c23"
      },
      "outputs": [],
      "source": [
        "#tokenize text\n",
        "tokenizer = Tokenizer(oov_token=\"UNKNOWN_TOKEN\")\n",
        "tokenizer.fit_on_texts(df['cleaned_reviews'])"
      ]
    },
    {
      "cell_type": "code",
      "source": [
        "#defining max length\n",
        "MAX_SEQUENCE_LENGTH = 100"
      ],
      "metadata": {
        "id": "fGAjJBInKggt"
      },
      "id": "fGAjJBInKggt",
      "execution_count": 38,
      "outputs": []
    },
    {
      "cell_type": "code",
      "execution_count": 39,
      "id": "f8708582",
      "metadata": {
        "ExecuteTime": {
          "start_time": "2022-12-14T21:33:32.094Z"
        },
        "id": "f8708582"
      },
      "outputs": [],
      "source": [
        "#encoding and padding documents\n",
        "def integer_encode_documents(docs, tokenizer):\n",
        "    return tokenizer.texts_to_sequences(docs)\n",
        "\n",
        "# integer encode the documents\n",
        "encoded_docs = integer_encode_documents(df['cleaned_reviews'], tokenizer)\n",
        "# this is a list of lists, the numbers represent the index position of that word.\n",
        "# for instance, 33 means the 33rd word in the vocabulary\n",
        "# Notice the last document has 4 numbers, since it is a 4 word document: Could have done better.\n",
        "padded_docs = pad_sequences(encoded_docs, maxlen=MAX_SEQUENCE_LENGTH, padding='post')"
      ]
    },
    {
      "cell_type": "code",
      "execution_count": 40,
      "id": "0faa3520",
      "metadata": {
        "id": "0faa3520"
      },
      "outputs": [],
      "source": [
        "#encoding labels\n",
        "labels = np.array(df['recommend'])\n",
        "encoder = LabelEncoder()\n",
        "labels = to_categorical(encoder.fit_transform(labels))"
      ]
    },
    {
      "cell_type": "code",
      "execution_count": 41,
      "id": "11a982ab",
      "metadata": {
        "id": "11a982ab"
      },
      "outputs": [],
      "source": [
        "#train test split\n",
        "X_train, X_test, y_train, y_test = train_test_split(padded_docs, labels, test_size=0.3)"
      ]
    },
    {
      "cell_type": "code",
      "source": [
        "VOCAB_SIZE = int(len(tokenizer.word_index) * 1.1)"
      ],
      "metadata": {
        "id": "B_hFnieVNFve"
      },
      "id": "B_hFnieVNFve",
      "execution_count": 42,
      "outputs": []
    },
    {
      "cell_type": "code",
      "execution_count": 43,
      "id": "d33ccc34",
      "metadata": {
        "id": "d33ccc34"
      },
      "outputs": [],
      "source": [
        "#defining rnn function\n",
        "def make_binary_classification_rnn_model(plot=False):\n",
        "    model = Sequential()\n",
        "    model.add(Embedding(VOCAB_SIZE, 100, input_length=MAX_SEQUENCE_LENGTH, trainable=False))\n",
        "    model.add(Masking(mask_value=0.0)) # masking layer, masks any words that don't have an embedding as 0s.\n",
        "    model.add(SimpleRNN(units=64, input_shape=(1, MAX_SEQUENCE_LENGTH)))\n",
        "    model.add(Dense(16))\n",
        "    model.add(Dense(2, activation='softmax'))\n",
        "    \n",
        "    # Compile the model\n",
        "    model.compile(\n",
        "    optimizer='adam', loss='categorical_crossentropy', metrics=['accuracy'])\n",
        "    # summarize the model\n",
        "    model.summary()\n",
        "    \n",
        "    if plot:\n",
        "        plot_model(model, to_file='model.png', show_shapes=True)\n",
        "    return model"
      ]
    },
    {
      "cell_type": "code",
      "execution_count": 44,
      "id": "a6f79071",
      "metadata": {
        "colab": {
          "base_uri": "https://localhost:8080/"
        },
        "id": "a6f79071",
        "outputId": "371629df-9239-4716-e673-aba11e8d531b"
      },
      "outputs": [
        {
          "output_type": "stream",
          "name": "stdout",
          "text": [
            "Model: \"sequential\"\n",
            "_________________________________________________________________\n",
            " Layer (type)                Output Shape              Param #   \n",
            "=================================================================\n",
            " embedding (Embedding)       (None, 100, 100)          12967200  \n",
            "                                                                 \n",
            " masking (Masking)           (None, 100, 100)          0         \n",
            "                                                                 \n",
            " simple_rnn (SimpleRNN)      (None, 64)                10560     \n",
            "                                                                 \n",
            " dense (Dense)               (None, 16)                1040      \n",
            "                                                                 \n",
            " dense_1 (Dense)             (None, 2)                 34        \n",
            "                                                                 \n",
            "=================================================================\n",
            "Total params: 12,978,834\n",
            "Trainable params: 11,634\n",
            "Non-trainable params: 12,967,200\n",
            "_________________________________________________________________\n",
            "<keras.engine.sequential.Sequential object at 0x7fd21615c220>\n"
          ]
        }
      ],
      "source": [
        "#defining model\n",
        "model_rnn = make_binary_classification_rnn_model()\n",
        "print(model_rnn)"
      ]
    },
    {
      "cell_type": "code",
      "execution_count": 45,
      "id": "fe5dd32a",
      "metadata": {
        "colab": {
          "base_uri": "https://localhost:8080/"
        },
        "id": "fe5dd32a",
        "outputId": "e3604361-f7d3-4013-9e53-82af10516f3b"
      },
      "outputs": [
        {
          "output_type": "stream",
          "name": "stdout",
          "text": [
            "Epoch 1/2\n",
            "6283/6283 [==============================] - 297s 47ms/step - loss: 0.5549 - accuracy: 0.7479 - val_loss: 0.4757 - val_accuracy: 0.7564\n",
            "Epoch 2/2\n",
            "6283/6283 [==============================] - 298s 47ms/step - loss: 0.4696 - accuracy: 0.7589 - val_loss: 0.4548 - val_accuracy: 0.7756\n"
          ]
        }
      ],
      "source": [
        "#training the model\n",
        "history_rnn = model_rnn.fit(X_train, y_train,validation_split = 0.1, epochs=2, verbose=1)"
      ]
    },
    {
      "cell_type": "code",
      "execution_count": 46,
      "id": "aba5099a",
      "metadata": {
        "colab": {
          "base_uri": "https://localhost:8080/"
        },
        "id": "aba5099a",
        "outputId": "5661ae6f-f0dd-4627-8e13-f4ddf8190b49"
      },
      "outputs": [
        {
          "output_type": "stream",
          "name": "stdout",
          "text": [
            "2992/2992 [==============================] - 46s 15ms/step - loss: 0.4559 - accuracy: 0.7723\n",
            "Accuracy: 77.227622\n"
          ]
        }
      ],
      "source": [
        "#evaluating the model\n",
        "loss, accuracy = model_rnn.evaluate(X_test, y_test, verbose=1)\n",
        "print('Accuracy: %f' % (accuracy*100))"
      ]
    },
    {
      "cell_type": "code",
      "execution_count": 46,
      "id": "5feb82de",
      "metadata": {
        "id": "5feb82de"
      },
      "outputs": [],
      "source": []
    },
    {
      "cell_type": "code",
      "execution_count": 46,
      "id": "435a9a8d",
      "metadata": {
        "id": "435a9a8d"
      },
      "outputs": [],
      "source": []
    },
    {
      "cell_type": "code",
      "execution_count": 46,
      "id": "b81afb45",
      "metadata": {
        "id": "b81afb45"
      },
      "outputs": [],
      "source": []
    },
    {
      "cell_type": "code",
      "execution_count": 46,
      "id": "d5f40dc5",
      "metadata": {
        "id": "d5f40dc5"
      },
      "outputs": [],
      "source": []
    },
    {
      "cell_type": "code",
      "execution_count": 46,
      "id": "2fd2eba6",
      "metadata": {
        "id": "2fd2eba6"
      },
      "outputs": [],
      "source": []
    },
    {
      "cell_type": "code",
      "execution_count": 46,
      "id": "91b85051",
      "metadata": {
        "id": "91b85051"
      },
      "outputs": [],
      "source": []
    },
    {
      "cell_type": "code",
      "execution_count": 46,
      "id": "de5c24ec",
      "metadata": {
        "id": "de5c24ec"
      },
      "outputs": [],
      "source": []
    },
    {
      "cell_type": "code",
      "execution_count": 46,
      "id": "ce4658c1",
      "metadata": {
        "id": "ce4658c1"
      },
      "outputs": [],
      "source": []
    },
    {
      "cell_type": "code",
      "execution_count": 46,
      "id": "fc3ae4f4",
      "metadata": {
        "id": "fc3ae4f4"
      },
      "outputs": [],
      "source": []
    },
    {
      "cell_type": "code",
      "execution_count": 46,
      "id": "14da52b3",
      "metadata": {
        "id": "14da52b3"
      },
      "outputs": [],
      "source": []
    },
    {
      "cell_type": "code",
      "execution_count": 46,
      "id": "ae537d22",
      "metadata": {
        "id": "ae537d22"
      },
      "outputs": [],
      "source": []
    },
    {
      "cell_type": "code",
      "execution_count": 46,
      "id": "1cbef154",
      "metadata": {
        "id": "1cbef154"
      },
      "outputs": [],
      "source": []
    }
  ],
  "metadata": {
    "kernelspec": {
      "display_name": "Python 3.8.8 64-bit ('base': conda)",
      "language": "python",
      "name": "python388jvsc74a57bd040d3a090f54c6569ab1632332b64b2c03c39dcf918b08424e98f38b5ae0af88f"
    },
    "language_info": {
      "codemirror_mode": {
        "name": "ipython",
        "version": 3
      },
      "file_extension": ".py",
      "mimetype": "text/x-python",
      "name": "python",
      "nbconvert_exporter": "python",
      "pygments_lexer": "ipython3",
      "version": "3.8.8"
    },
    "colab": {
      "provenance": [],
      "include_colab_link": true
    }
  },
  "nbformat": 4,
  "nbformat_minor": 5
}